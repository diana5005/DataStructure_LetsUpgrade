{
 "cells": [
  {
   "cell_type": "markdown",
   "metadata": {},
   "source": [
    "# Question 1"
   ]
  },
  {
   "cell_type": "markdown",
   "metadata": {},
   "source": [
    "Write a Python program to add two numbers using class and object.\n",
    "(Take both numbers as input from the user)"
   ]
  },
  {
   "cell_type": "code",
   "execution_count": 1,
   "metadata": {},
   "outputs": [
    {
     "name": "stdout",
     "output_type": "stream",
     "text": [
      "Enter one number\n",
      "5\n",
      "Enter another number\n",
      "4\n",
      "The required sum is:  9\n"
     ]
    }
   ],
   "source": [
    "class add:\n",
    "    def addition(self, a, b):\n",
    "        s=a+b\n",
    "        return s\n",
    "num1=int(input(\"Enter one number\\n\"))\n",
    "num2=int(input(\"Enter another number\\n\"))\n",
    "\n",
    "ad=add()\n",
    "s=ad.addition(num1, num2)\n",
    "\n",
    "print(\"The required sum is: \",s)"
   ]
  },
  {
   "cell_type": "markdown",
   "metadata": {},
   "source": [
    "# Question 2"
   ]
  },
  {
   "cell_type": "markdown",
   "metadata": {},
   "source": [
    "Define a function swap that should swap two values and print the swapped variables outside the\n",
    "swap function."
   ]
  },
  {
   "cell_type": "code",
   "execution_count": 2,
   "metadata": {},
   "outputs": [
    {
     "name": "stdout",
     "output_type": "stream",
     "text": [
      "Enter one number\n",
      "8\n",
      "Enter another number\n",
      "9\n",
      "Before swaping the numbers are:  8 9\n",
      "After swaping the numbers are:  (9, 8)\n"
     ]
    }
   ],
   "source": [
    "def swap(x, y):\n",
    "    x, y = y, x\n",
    "    return x, y\n",
    "\n",
    "num1 = int(input(\"Enter one number\\n\"))\n",
    "num2 = int(input(\"Enter another number\\n\"))\n",
    "\n",
    "s=swap(num1, num2)\n",
    "\n",
    "print(\"Before swaping the numbers are: \",num1,num2)\n",
    "print(\"After swaping the numbers are: \",s)"
   ]
  },
  {
   "cell_type": "code",
   "execution_count": null,
   "metadata": {},
   "outputs": [],
   "source": []
  }
 ],
 "metadata": {
  "kernelspec": {
   "display_name": "Python 3",
   "language": "python",
   "name": "python3"
  },
  "language_info": {
   "codemirror_mode": {
    "name": "ipython",
    "version": 3
   },
   "file_extension": ".py",
   "mimetype": "text/x-python",
   "name": "python",
   "nbconvert_exporter": "python",
   "pygments_lexer": "ipython3",
   "version": "3.8.3"
  }
 },
 "nbformat": 4,
 "nbformat_minor": 4
}
