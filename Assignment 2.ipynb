{
 "cells": [
  {
   "cell_type": "markdown",
   "metadata": {},
   "source": [
    "# Question 1"
   ]
  },
  {
   "cell_type": "markdown",
   "metadata": {},
   "source": [
    " Write a Python program to print even numbers in a list.\n",
    "Sample:\n",
    "Input: list1 = [12, 3, 55, 6, 144]\n",
    "Output: [12, 6, 144]\n",
    "Input: list2 = [2, 10, 9, 37]\n",
    "Output: [2, 10]"
   ]
  },
  {
   "cell_type": "code",
   "execution_count": 1,
   "metadata": {},
   "outputs": [
    {
     "name": "stdout",
     "output_type": "stream",
     "text": [
      "Enter the length of the list\n",
      "5\n",
      "Enter the element of the list\n",
      "12\n",
      "3\n",
      "55\n",
      "6\n",
      "144\n",
      "There fore the required even number list is : [12, 6, 144]\n"
     ]
    }
   ],
   "source": [
    "length=int(input(\"Enter the length of the list\\n\"))\n",
    "given_list=[]\n",
    "print(\"Enter the element of the list\")\n",
    "for i in range(length):\n",
    "    item=int(input())\n",
    "    given_list.append(item)\n",
    "\n",
    "result=[ele for ele in given_list if ele%2==0]\n",
    "print(\"There fore the required even number list is :\",result)"
   ]
  },
  {
   "cell_type": "markdown",
   "metadata": {},
   "source": [
    "# Question 2"
   ]
  },
  {
   "cell_type": "code",
   "execution_count": 2,
   "metadata": {},
   "outputs": [
    {
     "name": "stdout",
     "output_type": "stream",
     "text": [
      "     1\n",
      "    22\n",
      "   333\n",
      "  4444\n",
      " 55555\n"
     ]
    }
   ],
   "source": [
    "for ele in range(1,6):\n",
    "    print(\" \"*(5-ele), str(ele)*ele)"
   ]
  },
  {
   "cell_type": "code",
   "execution_count": null,
   "metadata": {},
   "outputs": [],
   "source": []
  }
 ],
 "metadata": {
  "kernelspec": {
   "display_name": "Python 3",
   "language": "python",
   "name": "python3"
  },
  "language_info": {
   "codemirror_mode": {
    "name": "ipython",
    "version": 3
   },
   "file_extension": ".py",
   "mimetype": "text/x-python",
   "name": "python",
   "nbconvert_exporter": "python",
   "pygments_lexer": "ipython3",
   "version": "3.8.3"
  }
 },
 "nbformat": 4,
 "nbformat_minor": 4
}
